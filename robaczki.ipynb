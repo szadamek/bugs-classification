{
 "cells": [
  {
   "cell_type": "code",
   "execution_count": 14,
   "metadata": {},
   "outputs": [
    {
     "name": "stdout",
     "output_type": "stream",
     "text": [
      "Requirement already satisfied: requests in c:\\users\\użytkownik\\pycharmprojects\\bugs_classification\\venv\\lib\\site-packages (2.31.0)\n",
      "Requirement already satisfied: urllib3<3,>=1.21.1 in c:\\users\\użytkownik\\pycharmprojects\\bugs_classification\\venv\\lib\\site-packages (from requests) (2.1.0)\n",
      "Requirement already satisfied: idna<4,>=2.5 in c:\\users\\użytkownik\\pycharmprojects\\bugs_classification\\venv\\lib\\site-packages (from requests) (3.6)\n",
      "Requirement already satisfied: charset-normalizer<4,>=2 in c:\\users\\użytkownik\\pycharmprojects\\bugs_classification\\venv\\lib\\site-packages (from requests) (3.3.2)\n",
      "Requirement already satisfied: certifi>=2017.4.17 in c:\\users\\użytkownik\\pycharmprojects\\bugs_classification\\venv\\lib\\site-packages (from requests) (2023.11.17)\n"
     ]
    },
    {
     "name": "stderr",
     "output_type": "stream",
     "text": [
      "WARNING: You are using pip version 21.3.1; however, version 23.3.2 is available.\n",
      "You should consider upgrading via the 'C:\\Users\\Użytkownik\\PycharmProjects\\bugs_classification\\venv\\Scripts\\python.exe -m pip install --upgrade pip' command.\n"
     ]
    }
   ],
   "source": [
    "!pip install requests"
   ]
  },
  {
   "cell_type": "code",
   "execution_count": 1,
   "metadata": {},
   "outputs": [
    {
     "name": "stdout",
     "output_type": "stream",
     "text": [
      "c:\\Users\\Użytkownik\\PycharmProjects\\bugs_classification\\yolov5\n"
     ]
    },
    {
     "name": "stderr",
     "output_type": "stream",
     "text": [
      "c:\\Users\\Użytkownik\\PycharmProjects\\bugs_classification\\venv\\lib\\site-packages\\IPython\\core\\magics\\osm.py:417: UserWarning: using dhist requires you to install the `pickleshare` library.\n",
      "  self.shell.db['dhist'] = compress_dhist(dhist)[-100:]\n"
     ]
    }
   ],
   "source": [
    "%cd ./yolov5"
   ]
  },
  {
   "cell_type": "code",
   "execution_count": 16,
   "metadata": {},
   "outputs": [
    {
     "name": "stderr",
     "output_type": "stream",
     "text": [
      "\u001b[34m\u001b[1mtrain: \u001b[0mweights=yolov5s.pt, cfg=yolov5s.yaml, data=dataset.yaml, hyp=data\\hyps\\hyp.scratch-low.yaml, epochs=20, batch_size=32, imgsz=300, rect=False, resume=False, nosave=False, noval=False, noautoanchor=False, noplots=False, evolve=None, evolve_population=data\\hyps, resume_evolve=None, bucket=, cache=None, image_weights=False, device=, multi_scale=False, single_cls=False, optimizer=SGD, sync_bn=False, workers=24, project=runs\\train, name=yolo_insect_det, exist_ok=False, quad=False, cos_lr=False, label_smoothing=0.0, patience=100, freeze=[0], save_period=-1, seed=0, local_rank=-1, entity=None, upload_dataset=False, bbox_interval=-1, artifact_alias=latest, ndjson_console=False, ndjson_file=False\n",
      "\u001b[34m\u001b[1mgithub: \u001b[0mup to date with https://github.com/ultralytics/yolov5 \n",
      "YOLOv5  v7.0-270-g4733b4d Python-3.10.2 torch-2.1.2+cpu CPU\n",
      "\n",
      "\u001b[34m\u001b[1mhyperparameters: \u001b[0mlr0=0.01, lrf=0.01, momentum=0.937, weight_decay=0.0005, warmup_epochs=3.0, warmup_momentum=0.8, warmup_bias_lr=0.1, box=0.05, cls=0.5, cls_pw=1.0, obj=1.0, obj_pw=1.0, iou_t=0.2, anchor_t=4.0, fl_gamma=0.0, hsv_h=0.015, hsv_s=0.7, hsv_v=0.4, degrees=0.0, translate=0.1, scale=0.5, shear=0.0, perspective=0.0, flipud=0.0, fliplr=0.5, mosaic=1.0, mixup=0.0, copy_paste=0.0\n",
      "\u001b[34m\u001b[1mComet: \u001b[0mrun 'pip install comet_ml' to automatically track and visualize YOLOv5  runs in Comet\n",
      "\u001b[34m\u001b[1mTensorBoard: \u001b[0mStart with 'tensorboard --logdir runs\\train', view at http://localhost:6006/\n",
      "Downloading https://ultralytics.com/assets/Arial.ttf to C:\\Users\\Uytkownik\\AppData\\Roaming\\Ultralytics\\Arial.ttf...\n",
      "Traceback (most recent call last):\n",
      "  File \"C:\\Python310\\lib\\urllib\\request.py\", line 1348, in do_open\n",
      "    h.request(req.get_method(), req.selector, req.data, headers,\n",
      "  File \"C:\\Python310\\lib\\http\\client.py\", line 1282, in request\n",
      "    self._send_request(method, url, body, headers, encode_chunked)\n",
      "  File \"C:\\Python310\\lib\\http\\client.py\", line 1328, in _send_request\n",
      "    self.endheaders(body, encode_chunked=encode_chunked)\n",
      "  File \"C:\\Python310\\lib\\http\\client.py\", line 1277, in endheaders\n",
      "    self._send_output(message_body, encode_chunked=encode_chunked)\n",
      "  File \"C:\\Python310\\lib\\http\\client.py\", line 1037, in _send_output\n",
      "    self.send(msg)\n",
      "  File \"C:\\Python310\\lib\\http\\client.py\", line 975, in send\n",
      "    self.connect()\n",
      "  File \"C:\\Python310\\lib\\http\\client.py\", line 1454, in connect\n",
      "    self.sock = self._context.wrap_socket(self.sock,\n",
      "  File \"C:\\Python310\\lib\\ssl.py\", line 512, in wrap_socket\n",
      "    return self.sslsocket_class._create(\n",
      "  File \"C:\\Python310\\lib\\ssl.py\", line 1070, in _create\n",
      "    self.do_handshake()\n",
      "  File \"C:\\Python310\\lib\\ssl.py\", line 1341, in do_handshake\n",
      "    self._sslobj.do_handshake()\n",
      "ssl.SSLCertVerificationError: [SSL: CERTIFICATE_VERIFY_FAILED] certificate verify failed: certificate has expired (_ssl.c:997)\n",
      "\n",
      "During handling of the above exception, another exception occurred:\n",
      "\n",
      "Traceback (most recent call last):\n",
      "  File \"c:\\Users\\Użytkownik\\PycharmProjects\\bugs_classification\\yolov5\\train.py\", line 846, in <module>\n",
      "    main(opt)\n",
      "  File \"c:\\Users\\Użytkownik\\PycharmProjects\\bugs_classification\\yolov5\\train.py\", line 616, in main\n",
      "    train(opt.hyp, opt, device, callbacks)\n",
      "  File \"c:\\Users\\Użytkownik\\PycharmProjects\\bugs_classification\\yolov5\\train.py\", line 170, in train\n",
      "    data_dict = data_dict or check_dataset(data)  # check if None\n",
      "  File \"c:\\Users\\Użytkownik\\PycharmProjects\\bugs_classification\\yolov5\\utils\\general.py\", line 552, in check_dataset\n",
      "    check_font(\"Arial.ttf\" if is_ascii(data[\"names\"]) else \"Arial.Unicode.ttf\", progress=True)  # download fonts\n",
      "  File \"c:\\Users\\Użytkownik\\PycharmProjects\\bugs_classification\\yolov5\\utils\\general.py\", line 487, in check_font\n",
      "    torch.hub.download_url_to_file(url, str(file), progress=progress)\n",
      "  File \"c:\\Users\\Użytkownik\\PycharmProjects\\bugs_classification\\venv\\lib\\site-packages\\torch\\hub.py\", line 620, in download_url_to_file\n",
      "    u = urlopen(req)\n",
      "  File \"C:\\Python310\\lib\\urllib\\request.py\", line 216, in urlopen\n",
      "    return opener.open(url, data, timeout)\n",
      "  File \"C:\\Python310\\lib\\urllib\\request.py\", line 519, in open\n",
      "    response = self._open(req, data)\n",
      "  File \"C:\\Python310\\lib\\urllib\\request.py\", line 536, in _open\n",
      "    result = self._call_chain(self.handle_open, protocol, protocol +\n",
      "  File \"C:\\Python310\\lib\\urllib\\request.py\", line 496, in _call_chain\n",
      "    result = func(*args)\n",
      "  File \"C:\\Python310\\lib\\urllib\\request.py\", line 1391, in https_open\n",
      "    return self.do_open(http.client.HTTPSConnection, req,\n",
      "  File \"C:\\Python310\\lib\\urllib\\request.py\", line 1351, in do_open\n",
      "    raise URLError(err)\n",
      "urllib.error.URLError: <urlopen error [SSL: CERTIFICATE_VERIFY_FAILED] certificate verify failed: certificate has expired (_ssl.c:997)>\n"
     ]
    }
   ],
   "source": [
    "!python train.py --img 300 --cfg yolov5s.yaml  --batch 32 --epochs 20 --data dataset.yaml --weights yolov5s.pt --workers 24 --name yolo_insect_det\n",
    "\n"
   ]
  }
 ],
 "metadata": {
  "kernelspec": {
   "display_name": "venv",
   "language": "python",
   "name": "python3"
  },
  "language_info": {
   "codemirror_mode": {
    "name": "ipython",
    "version": 3
   },
   "file_extension": ".py",
   "mimetype": "text/x-python",
   "name": "python",
   "nbconvert_exporter": "python",
   "pygments_lexer": "ipython3",
   "version": "3.10.2"
  },
  "orig_nbformat": 4
 },
 "nbformat": 4,
 "nbformat_minor": 2
}
